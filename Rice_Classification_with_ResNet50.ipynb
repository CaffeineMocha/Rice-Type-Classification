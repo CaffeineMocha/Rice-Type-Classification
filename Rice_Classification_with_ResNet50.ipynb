{
 "cells": [
  {
   "cell_type": "markdown",
   "metadata": {
    "id": "ZhTWaxBQHlzm"
   },
   "source": [
    "## Import Library"
   ]
  },
  {
   "cell_type": "code",
   "execution_count": 1,
   "metadata": {
    "id": "X-MLHbE-HjLX"
   },
   "outputs": [],
   "source": [
    "# Standard library \n",
    "import os\n",
    "import io\n",
    "import time\n",
    "import copy\n",
    "\n",
    "# Data handling & visualization \n",
    "import numpy as np\n",
    "import matplotlib.pyplot as plt\n",
    "import seaborn as sns\n",
    "from PIL import Image\n",
    "\n",
    "# PyTorch \n",
    "import torch\n",
    "import torch.nn as nn\n",
    "import torch.optim as optim\n",
    "from torch.utils.data import DataLoader, random_split\n",
    "from torchvision import datasets, models, transforms\n",
    "from torchvision.models import resnet50, ResNet50_Weights\n",
    "\n",
    "# Metrics & evaluation \n",
    "from sklearn.metrics import confusion_matrix, classification_report, f1_score\n",
    "\n",
    "# Utilities \n",
    "from tqdm import tqdm\n",
    "from ipywidgets import FileUpload\n",
    "from IPython.display import display"
   ]
  },
  {
   "cell_type": "markdown",
   "metadata": {
    "id": "d-bEVc_UHxLQ"
   },
   "source": [
    "## Training Configuration"
   ]
  },
  {
   "cell_type": "code",
   "execution_count": 2,
   "metadata": {
    "id": "9U26kR2UHyD3"
   },
   "outputs": [],
   "source": [
    "device = torch.device(\"cuda\" if torch.cuda.is_available() else \"cpu\")\n",
    "num_classes = 5\n",
    "batch_size = 24\n",
    "num_epochs = 10\n",
    "num_workers = 2\n",
    "learning_rate = 1e-4"
   ]
  },
  {
   "cell_type": "markdown",
   "metadata": {
    "id": "4tPOFoE_H1LR"
   },
   "source": [
    "## Data Augmentation + Preprocessing"
   ]
  },
  {
   "cell_type": "code",
   "execution_count": 3,
   "metadata": {
    "id": "Gw9a5VvOH4qr"
   },
   "outputs": [],
   "source": [
    "train_transform = transforms.Compose([\n",
    "    transforms.Resize((224, 224)),\n",
    "    transforms.RandomRotation(15),\n",
    "    transforms.ColorJitter(brightness=0.2, contrast=0.2),\n",
    "    transforms.RandomHorizontalFlip(),\n",
    "    transforms.ToTensor(),\n",
    "    transforms.Normalize([0.485, 0.456, 0.406],\n",
    "                         [0.229, 0.224, 0.225])\n",
    "])\n",
    "\n",
    "test_val_transform = transforms.Compose([\n",
    "    transforms.Resize((224, 224)),\n",
    "    transforms.ToTensor(),\n",
    "    transforms.Normalize([0.485, 0.456, 0.406],\n",
    "                         [0.229, 0.224, 0.225])\n",
    "])"
   ]
  },
  {
   "cell_type": "markdown",
   "metadata": {
    "id": "IFKfJu16H8HQ"
   },
   "source": [
    "## Dataset Preparation"
   ]
  },
  {
   "cell_type": "code",
   "execution_count": 4,
   "metadata": {
    "colab": {
     "base_uri": "https://localhost:8080/"
    },
    "id": "DWTCButAMJZO",
    "outputId": "97b5ac38-ad8e-44b9-b077-205e6911a358"
   },
   "outputs": [
    {
     "name": "stdout",
     "output_type": "stream",
     "text": [
      "Dataset ready at: C:\\Users\\ChrisBear\\Python 3 General Notebook\\Indonesia AI\\Rice Type Classification\\Rice_Image_Dataset\n"
     ]
    }
   ],
   "source": [
    "# Path to your dataset (local machine)\n",
    "data_dir = r\"C:\\Users\\ChrisBear\\Python 3 General Notebook\\Indonesia AI\\Rice Type Classification\\Rice_Image_Dataset\"\n",
    "\n",
    "# Check if path exists\n",
    "if os.path.exists(data_dir):\n",
    "    print(\"Dataset ready at:\", data_dir)\n",
    "else:\n",
    "    print(\"Dataset folder not found. Please check the path.\")"
   ]
  },
  {
   "cell_type": "code",
   "execution_count": 5,
   "metadata": {
    "colab": {
     "base_uri": "https://localhost:8080/"
    },
    "id": "bsGqvQkaH-ZG",
    "outputId": "2131951e-378e-4c01-d5d8-446f04d34479"
   },
   "outputs": [
    {
     "name": "stdout",
     "output_type": "stream",
     "text": [
      "Train dataset size: 52500\n",
      "Val dataset size:   11250\n",
      "Test dataset size:  11250\n",
      "Train batches: 2188\n",
      "Val batches:   469\n",
      "Test batches:  469\n"
     ]
    }
   ],
   "source": [
    "# Declare dataset path\n",
    "full_dataset = datasets.ImageFolder(data_dir, transform=train_transform)\n",
    "\n",
    "# Split sizes (70% train, 15% val, 15% test)\n",
    "train_size = int(0.7 * len(full_dataset))\n",
    "val_size   = int(0.15 * len(full_dataset))\n",
    "test_size  = len(full_dataset) - train_size - val_size\n",
    "\n",
    "train_dataset, val_dataset, test_dataset = random_split(\n",
    "    full_dataset, [train_size, val_size, test_size],\n",
    "    generator=torch.Generator().manual_seed(42)  # reproducibility\n",
    ")\n",
    "\n",
    "# Use different transforms for val/test (no augmentation!)\n",
    "val_dataset.dataset.transform = test_val_transform\n",
    "test_dataset.dataset.transform = test_val_transform\n",
    "\n",
    "# Dataloaders\n",
    "train_loader = DataLoader(train_dataset, batch_size=batch_size, shuffle=True, num_workers=num_workers, pin_memory=True)\n",
    "val_loader   = DataLoader(val_dataset, batch_size=batch_size, shuffle=False, num_workers=num_workers, pin_memory=True)\n",
    "test_loader  = DataLoader(test_dataset, batch_size=batch_size, shuffle=False, num_workers=num_workers, pin_memory=True)\n",
    "\n",
    "# Check each dataset size\n",
    "print(f\"Train dataset size: {len(train_dataset)}\")\n",
    "print(f\"Val dataset size:   {len(val_dataset)}\")\n",
    "print(f\"Test dataset size:  {len(test_dataset)}\")\n",
    "print(f\"Train batches: {len(train_loader)}\")\n",
    "print(f\"Val batches:   {len(val_loader)}\")\n",
    "print(f\"Test batches:  {len(test_loader)}\")"
   ]
  },
  {
   "cell_type": "markdown",
   "metadata": {
    "id": "FbYhfdiuIV7l"
   },
   "source": [
    "## Modeling (ResNet50)"
   ]
  },
  {
   "cell_type": "code",
   "execution_count": 6,
   "metadata": {
    "colab": {
     "base_uri": "https://localhost:8080/"
    },
    "id": "2X0-n0QIIZG4",
    "outputId": "f4896cf9-4431-4d59-a604-7a5a209375c3"
   },
   "outputs": [
    {
     "name": "stderr",
     "output_type": "stream",
     "text": [
      "Downloading: \"https://download.pytorch.org/models/resnet50-11ad3fa6.pth\" to C:\\Users\\ChrisBear/.cache\\torch\\hub\\checkpoints\\resnet50-11ad3fa6.pth\n",
      "100%|██████████| 97.8M/97.8M [00:07<00:00, 13.1MB/s]\n"
     ]
    }
   ],
   "source": [
    "model = resnet50(weights=ResNet50_Weights.DEFAULT)\n",
    "\n",
    "# Update final layer for custom classes\n",
    "in_features = model.fc.in_features\n",
    "model.fc = nn.Linear(in_features, num_classes)\n",
    "\n",
    "model = model.to(device)"
   ]
  },
  {
   "cell_type": "markdown",
   "metadata": {
    "id": "4g89SGJGIcPQ"
   },
   "source": [
    "## Loss & Optimizer"
   ]
  },
  {
   "cell_type": "code",
   "execution_count": 15,
   "metadata": {
    "id": "tojBQVFlIfLV"
   },
   "outputs": [],
   "source": [
    "# Loss function and optimizer setup\n",
    "criterion = nn.CrossEntropyLoss()\n",
    "optimizer = optim.Adam([\n",
    "    {'params': model.fc.parameters(), 'lr': 1e-4},\n",
    "    {'params': [p for n, p in model.named_parameters() if not n.startswith('fc')], 'lr': 1e-5}\n",
    "])"
   ]
  },
  {
   "cell_type": "markdown",
   "metadata": {
    "id": "rWMzsI53IhV3"
   },
   "source": [
    "## Training Loop"
   ]
  },
  {
   "cell_type": "code",
   "execution_count": 8,
   "metadata": {
    "colab": {
     "base_uri": "https://localhost:8080/"
    },
    "id": "mkHNpEvFIjA1",
    "outputId": "cca19454-45d3-4f41-fd41-8ed68319d151"
   },
   "outputs": [
    {
     "name": "stdout",
     "output_type": "stream",
     "text": [
      "Epoch 1/10\n",
      "--------------------\n"
     ]
    },
    {
     "name": "stderr",
     "output_type": "stream",
     "text": [
      "                                                             "
     ]
    },
    {
     "name": "stdout",
     "output_type": "stream",
     "text": [
      "train Loss: 0.0913 Acc: 97.70%\n",
      "val   Loss: 0.0047 Acc: 99.89%\n",
      "\n",
      "Epoch 2/10\n",
      "--------------------\n"
     ]
    },
    {
     "name": "stderr",
     "output_type": "stream",
     "text": [
      "                                                             "
     ]
    },
    {
     "name": "stdout",
     "output_type": "stream",
     "text": [
      "train Loss: 0.0080 Acc: 99.77%\n",
      "val   Loss: 0.0042 Acc: 99.93%\n",
      "\n",
      "Epoch 3/10\n",
      "--------------------\n"
     ]
    },
    {
     "name": "stderr",
     "output_type": "stream",
     "text": [
      "                                                             "
     ]
    },
    {
     "name": "stdout",
     "output_type": "stream",
     "text": [
      "train Loss: 0.0043 Acc: 99.88%\n",
      "val   Loss: 0.0039 Acc: 99.90%\n",
      "\n",
      "Epoch 4/10\n",
      "--------------------\n"
     ]
    },
    {
     "name": "stderr",
     "output_type": "stream",
     "text": [
      "                                                             "
     ]
    },
    {
     "name": "stdout",
     "output_type": "stream",
     "text": [
      "train Loss: 0.0032 Acc: 99.91%\n",
      "val   Loss: 0.0031 Acc: 99.95%\n",
      "\n",
      "Epoch 5/10\n",
      "--------------------\n"
     ]
    },
    {
     "name": "stderr",
     "output_type": "stream",
     "text": [
      "                                                             "
     ]
    },
    {
     "name": "stdout",
     "output_type": "stream",
     "text": [
      "train Loss: 0.0027 Acc: 99.92%\n",
      "val   Loss: 0.0035 Acc: 99.94%\n",
      "\n",
      "Epoch 6/10\n",
      "--------------------\n"
     ]
    },
    {
     "name": "stderr",
     "output_type": "stream",
     "text": [
      "                                                             "
     ]
    },
    {
     "name": "stdout",
     "output_type": "stream",
     "text": [
      "train Loss: 0.0023 Acc: 99.94%\n",
      "val   Loss: 0.0024 Acc: 99.95%\n",
      "\n",
      "Epoch 7/10\n",
      "--------------------\n"
     ]
    },
    {
     "name": "stderr",
     "output_type": "stream",
     "text": [
      "                                                             "
     ]
    },
    {
     "name": "stdout",
     "output_type": "stream",
     "text": [
      "train Loss: 0.0015 Acc: 99.95%\n",
      "val   Loss: 0.0024 Acc: 99.94%\n",
      "\n",
      "Epoch 8/10\n",
      "--------------------\n"
     ]
    },
    {
     "name": "stderr",
     "output_type": "stream",
     "text": [
      "                                                             "
     ]
    },
    {
     "name": "stdout",
     "output_type": "stream",
     "text": [
      "train Loss: 0.0021 Acc: 99.94%\n",
      "val   Loss: 0.0048 Acc: 99.88%\n",
      "\n",
      "Epoch 9/10\n",
      "--------------------\n"
     ]
    },
    {
     "name": "stderr",
     "output_type": "stream",
     "text": [
      "                                                             "
     ]
    },
    {
     "name": "stdout",
     "output_type": "stream",
     "text": [
      "train Loss: 0.0010 Acc: 99.97%\n",
      "val   Loss: 0.0067 Acc: 99.86%\n",
      "\n",
      "Epoch 10/10\n",
      "--------------------\n"
     ]
    },
    {
     "name": "stderr",
     "output_type": "stream",
     "text": [
      "                                                             "
     ]
    },
    {
     "name": "stdout",
     "output_type": "stream",
     "text": [
      "train Loss: 0.0015 Acc: 99.94%\n",
      "val   Loss: 0.0070 Acc: 99.82%\n",
      "\n",
      "Training complete in 74m 22s\n",
      "Best val Acc: 99.95%\n"
     ]
    },
    {
     "data": {
      "image/png": "[encoded data removed]",
      "text/plain": [
       "<Figure size 1200x500 with 2 Axes>"
      ]
     },
     "metadata": {},
     "output_type": "display_data"
    }
   ],
   "source": [
    "# Record time\n",
    "since = time.time()\n",
    "best_acc = 0.0\n",
    "\n",
    "# Store history \n",
    "train_losses, val_losses = [], []\n",
    "train_accs, val_accs = [], []\n",
    "\n",
    "for epoch in range(num_epochs):\n",
    "    print(f\"Epoch {epoch+1}/{num_epochs}\")\n",
    "    print(\"-\" * 20)\n",
    "\n",
    "    # Training \n",
    "    model.train()\n",
    "    train_loss, correct, total = 0, 0, 0\n",
    "\n",
    "    for images, labels in tqdm(train_loader, desc=\"Training\", leave=False):\n",
    "        images, labels = images.to(device), labels.to(device)\n",
    "\n",
    "        optimizer.zero_grad()\n",
    "        outputs = model(images)\n",
    "        loss = criterion(outputs, labels)\n",
    "        loss.backward()\n",
    "        optimizer.step()\n",
    "\n",
    "        train_loss += loss.item()\n",
    "        _, predicted = outputs.max(1)\n",
    "        total += labels.size(0)\n",
    "        correct += predicted.eq(labels).sum().item()\n",
    "\n",
    "    train_acc = 100 * correct / total\n",
    "    train_loss = train_loss / len(train_loader)\n",
    "\n",
    "    # Validation \n",
    "    model.eval()\n",
    "    val_loss, val_correct, val_total = 0, 0, 0\n",
    "    with torch.no_grad():\n",
    "        for images, labels in tqdm(val_loader, desc=\"Validating\", leave=False):\n",
    "            images, labels = images.to(device), labels.to(device)\n",
    "            outputs = model(images)\n",
    "            loss = criterion(outputs, labels)\n",
    "\n",
    "            val_loss += loss.item()\n",
    "            _, predicted = outputs.max(1)\n",
    "            val_total += labels.size(0)\n",
    "            val_correct += predicted.eq(labels).sum().item()\n",
    "\n",
    "    val_acc = 100 * val_correct / val_total\n",
    "    val_loss = val_loss / len(val_loader)\n",
    "\n",
    "    print(f\"train Loss: {train_loss:.4f} Acc: {train_acc:.2f}%\")\n",
    "    print(f\"val   Loss: {val_loss:.4f} Acc: {val_acc:.2f}%\\n\")\n",
    "\n",
    "    # Save metrics for plotting \n",
    "    train_losses.append(train_loss)\n",
    "    val_losses.append(val_loss)\n",
    "    train_accs.append(train_acc)\n",
    "    val_accs.append(val_acc)\n",
    "\n",
    "    # Save best model\n",
    "    if val_acc > best_acc:\n",
    "        best_acc = val_acc\n",
    "        best_model = copy.deepcopy(model.state_dict())\n",
    "\n",
    "# Final Summary\n",
    "time_elapsed = time.time() - since\n",
    "print(f\"Training complete in {time_elapsed // 60:.0f}m {time_elapsed % 60:.0f}s\")\n",
    "print(f\"Best val Acc: {best_acc:.2f}%\")\n",
    "\n",
    "# Plot curves \n",
    "epochs = range(1, num_epochs+1)\n",
    "\n",
    "plt.figure(figsize=(12,5))\n",
    "\n",
    "# Loss curves\n",
    "plt.subplot(1,2,1)\n",
    "plt.plot(epochs, train_losses, label='Train Loss')\n",
    "plt.plot(epochs, val_losses, label='Val Loss')\n",
    "plt.xlabel('Epoch')\n",
    "plt.ylabel('Loss')\n",
    "plt.title('Training vs Validation Loss')\n",
    "plt.legend()\n",
    "\n",
    "# Accuracy curves\n",
    "plt.subplot(1,2,2)\n",
    "plt.plot(epochs, train_accs, label='Train Acc')\n",
    "plt.plot(epochs, val_accs, label='Val Acc')\n",
    "plt.xlabel('Epoch')\n",
    "plt.ylabel('Accuracy (%)')\n",
    "plt.title('Training vs Validation Accuracy')\n",
    "plt.legend()\n",
    "\n",
    "plt.show()"
   ]
  },
  {
   "cell_type": "markdown",
   "metadata": {
    "id": "4Iys_vBsIxxd"
   },
   "source": [
    "## Save Model"
   ]
  },
  {
   "cell_type": "code",
   "execution_count": 9,
   "metadata": {
    "id": "ivUzFwucIzYe"
   },
   "outputs": [
    {
     "name": "stdout",
     "output_type": "stream",
     "text": [
      "Model saved at: C:\\Users\\ChrisBear\\Python 3 General Notebook\\Indonesia AI\\Rice Type Classification\\resnet50_rice_classifier.pth\n"
     ]
    }
   ],
   "source": [
    "save_path = r\"C:\\Users\\ChrisBear\\Python 3 General Notebook\\Indonesia AI\\Rice Type Classification\\resnet50_rice_classifier.pth\"\n",
    "torch.save(best_model, save_path)\n",
    "\n",
    "print(f\"Model saved at: {save_path}\")"
   ]
  },
  {
   "cell_type": "markdown",
   "metadata": {},
   "source": [
    "## Load Model"
   ]
  },
  {
   "cell_type": "code",
   "execution_count": 10,
   "metadata": {},
   "outputs": [
    {
     "data": {
      "text/plain": [
       "<All keys matched successfully>"
      ]
     },
     "execution_count": 10,
     "metadata": {},
     "output_type": "execute_result"
    }
   ],
   "source": [
    "save_path = r\"C:\\Users\\ChrisBear\\Python 3 General Notebook\\Indonesia AI\\Rice Type Classification\\resnet50_rice_classifier.pth\"\n",
    "\n",
    "model.load_state_dict(torch.load(save_path, map_location=device))"
   ]
  },
  {
   "cell_type": "markdown",
   "metadata": {
    "id": "q_9DLffeImx2"
   },
   "source": [
    "## Final Test Evaluation and Summary"
   ]
  },
  {
   "cell_type": "code",
   "execution_count": 11,
   "metadata": {
    "id": "ooa4BELBIrWg"
   },
   "outputs": [
    {
     "name": "stderr",
     "output_type": "stream",
     "text": [
      "Testing: 100%|██████████| 469/469 [00:34<00:00, 13.69batch/s]\n"
     ]
    },
    {
     "name": "stdout",
     "output_type": "stream",
     "text": [
      "\n",
      "Final Test Accuracy: 99.88% \n",
      "\n"
     ]
    },
    {
     "data": {
      "image/png": "[encoded data removed]",
      "text/plain": [
       "<Figure size 600x500 with 2 Axes>"
      ]
     },
     "metadata": {},
     "output_type": "display_data"
    },
    {
     "name": "stdout",
     "output_type": "stream",
     "text": [
      "\n",
      "Classification Report:\n",
      "\n",
      "              precision    recall  f1-score   support\n",
      "\n",
      "     Arborio     0.9974    0.9991    0.9983      2288\n",
      "     Basmati     0.9982    0.9996    0.9989      2244\n",
      "      Ipsala     1.0000    1.0000    1.0000      2225\n",
      "     Jasmine     0.9987    0.9964    0.9975      2231\n",
      "   Karacadag     1.0000    0.9991    0.9996      2262\n",
      "\n",
      "    accuracy                         0.9988     11250\n",
      "   macro avg     0.9989    0.9988    0.9988     11250\n",
      "weighted avg     0.9988    0.9988    0.9988     11250\n",
      "\n",
      "Macro F1 Score: 0.9988\n"
     ]
    }
   ],
   "source": [
    "# Test model on test set and get prediction\n",
    "model.eval()\n",
    "test_correct, test_total = 0, 0\n",
    "all_labels = []\n",
    "all_preds = []\n",
    "\n",
    "with torch.no_grad():\n",
    "    for images, labels in tqdm(test_loader, desc=\"Testing\", unit=\"batch\"):\n",
    "        images, labels = images.to(device), labels.to(device)\n",
    "        outputs = model(images)\n",
    "        _, predicted = outputs.max(1)\n",
    "\n",
    "        test_total += labels.size(0)\n",
    "        test_correct += predicted.eq(labels).sum().item()\n",
    "\n",
    "        # Collect predictions + labels for later\n",
    "        all_labels.extend(labels.cpu().numpy())\n",
    "        all_preds.extend(predicted.cpu().numpy())\n",
    "\n",
    "# Accuracy \n",
    "test_acc = 100 * test_correct / test_total\n",
    "print(f\"\\nFinal Test Accuracy: {test_acc:.2f}% \\n\")\n",
    "\n",
    "# Confusion Matrix \n",
    "cm = confusion_matrix(all_labels, all_preds)\n",
    "class_names = test_dataset.dataset.classes  # class labels from ImageFolder\n",
    "\n",
    "plt.figure(figsize=(6,5))\n",
    "sns.heatmap(cm, annot=True, fmt=\"d\", cmap=\"Blues\",\n",
    "            xticklabels=class_names, yticklabels=class_names)\n",
    "plt.xlabel(\"Predicted\")\n",
    "plt.ylabel(\"True\")\n",
    "plt.title(\"Confusion Matrix\")\n",
    "plt.show()\n",
    "\n",
    "# Precision, Recall, F1 \n",
    "print(\"\\nClassification Report:\\n\")\n",
    "print(classification_report(\n",
    "    all_labels, all_preds,\n",
    "    target_names=class_names,\n",
    "    digits=4\n",
    "))\n",
    "\n",
    "# Macro F1 \n",
    "macro_f1 = f1_score(all_labels, all_preds, average=\"macro\")\n",
    "print(f\"Macro F1 Score: {macro_f1:.4f}\")"
   ]
  },
  {
   "cell_type": "markdown",
   "metadata": {
    "id": "Km5BI0_YOmL-"
   },
   "source": [
    "## Inference"
   ]
  },
  {
   "cell_type": "code",
   "execution_count": 12,
   "metadata": {},
   "outputs": [],
   "source": [
    "def predict_image(image_bytes, model, class_map, device):\n",
    "\n",
    "    # Open image\n",
    "    image = Image.open(io.BytesIO(image_bytes)).convert(\"RGB\")\n",
    "\n",
    "    # Same transform as validation/test\n",
    "    inference_transform = transforms.Compose([\n",
    "        transforms.Resize((224, 224)),\n",
    "        transforms.ToTensor(),\n",
    "        transforms.Normalize([0.485, 0.456, 0.406],\n",
    "                             [0.229, 0.224, 0.225])\n",
    "    ])\n",
    "\n",
    "    # Preprocess\n",
    "    input_tensor = inference_transform(image).unsqueeze(0).to(device)\n",
    "\n",
    "    # Prediction\n",
    "    model.eval()\n",
    "    with torch.no_grad():\n",
    "        outputs = model(input_tensor)\n",
    "        probs = torch.softmax(outputs, dim=1)  # convert logits -> probabilities\n",
    "        confidence, predicted = torch.max(probs, 1)\n",
    "\n",
    "    predicted_class = class_map[predicted.item()]\n",
    "    confidence = confidence.item() * 100  # scale to percentage\n",
    "\n",
    "    return predicted_class, confidence"
   ]
  },
  {
   "cell_type": "code",
   "execution_count": 13,
   "metadata": {
    "id": "H6dL6ZN3OnHX"
   },
   "outputs": [
    {
     "data": {
      "application/vnd.jupyter.widget-view+json": {
       "model_id": "bd1bb908f9444700b3296ec8ca256036",
       "version_major": 2,
       "version_minor": 0
      },
      "text/plain": [
       "FileUpload(value=(), accept='image/*', description='Upload')"
      ]
     },
     "metadata": {},
     "output_type": "display_data"
    }
   ],
   "source": [
    "# Upload widget\n",
    "upload_widget = FileUpload(accept='image/*', multiple=False)\n",
    "display(upload_widget)"
   ]
  },
  {
   "cell_type": "code",
   "execution_count": 14,
   "metadata": {},
   "outputs": [
    {
     "name": "stdout",
     "output_type": "stream",
     "text": [
      "Predicted rice type: Ipsala (90.03% confidence)\n"
     ]
    }
   ],
   "source": [
    "# Inference\n",
    "if len(upload_widget.value) == 0:\n",
    "    print(\"Please upload an image first.\")\n",
    "else:\n",
    "    # Extract uploaded file\n",
    "    uploaded_file = upload_widget.value[0]\n",
    "    image_data = uploaded_file['content']\n",
    "\n",
    "    # Load class mapping\n",
    "    idx_to_class = {v: k for k, v in full_dataset.class_to_idx.items()}\n",
    "\n",
    "    # Predict\n",
    "    predicted_class, confidence = predict_image(image_data, model, idx_to_class, device)\n",
    "\n",
    "    print(f\"Predicted rice type: {predicted_class} ({confidence:.2f}% confidence)\")"
   ]
  },
  {
   "cell_type": "code",
   "execution_count": null,
   "metadata": {},
   "outputs": [],
   "source": []
  }
 ],
 "metadata": {
  "accelerator": "GPU",
  "colab": {
   "gpuType": "T4",
   "provenance": []
  },
  "kernelspec": {
   "display_name": "Python 3 (ipykernel)",
   "language": "python",
   "name": "python3"
  },
  "language_info": {
   "codemirror_mode": {
    "name": "ipython",
    "version": 3
   },
   "file_extension": ".py",
   "mimetype": "text/x-python",
   "name": "python",
   "nbconvert_exporter": "python",
   "pygments_lexer": "ipython3",
   "version": "3.9.23"
  }
 },
 "nbformat": 4,
 "nbformat_minor": 4
}
